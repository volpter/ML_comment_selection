{
  "nbformat": 4,
  "nbformat_minor": 0,
  "metadata": {
    "colab": {
      "name": "Fraud_detection.ipynb",
      "provenance": [],
      "authorship_tag": "ABX9TyOqOlf4xIDDkTqmIuYdk/iI",
      "include_colab_link": true
    },
    "kernelspec": {
      "name": "python3",
      "display_name": "Python 3"
    },
    "language_info": {
      "name": "python"
    }
  },
  "cells": [
    {
      "cell_type": "markdown",
      "metadata": {
        "id": "view-in-github",
        "colab_type": "text"
      },
      "source": [
        "<a href=\"https://colab.research.google.com/github/volpter/ML_comment_selection/blob/main/Fraud_detection.ipynb\" target=\"_parent\"><img src=\"https://colab.research.google.com/assets/colab-badge.svg\" alt=\"Open In Colab\"/></a>"
      ]
    },
    {
      "cell_type": "code",
      "execution_count": null,
      "metadata": {
        "id": "zYaT_g7JCNZa"
      },
      "outputs": [],
      "source": [
        "import numpy as np\n",
        "import pandas as pd\n",
        "import itertools\n",
        "from sklearn.model_selection import train_test_split, GridSearchCV\n",
        "from sklearn.metrics import accuracy_score, recall_score, precision_score, ConfusionMatrixDisplay\n",
        "import matplotlib.pyplot as plt\n",
        "from sklearn.svm import SVC\n",
        "import seaborn as sns\n",
        "from sklearn.ensemble import RandomForestClassifier\n",
        "#from xgboost import XGBoostClassifier"
      ]
    },
    {
      "cell_type": "code",
      "source": [
        "main_df = pd.read_csv('creditcard.csv')\n",
        "main_df.shape"
      ],
      "metadata": {
        "colab": {
          "base_uri": "https://localhost:8080/"
        },
        "id": "PnCanGKiCRgF",
        "outputId": "e4dcbff1-aafa-4c43-f062-843f3b4ddfb4"
      },
      "execution_count": 46,
      "outputs": [
        {
          "output_type": "execute_result",
          "data": {
            "text/plain": [
              "(284807, 31)"
            ]
          },
          "metadata": {},
          "execution_count": 46
        }
      ]
    },
    {
      "cell_type": "code",
      "source": [
        "correl = main_df.drop(['Class'], axis = 1).corr()"
      ],
      "metadata": {
        "id": "DU2Xe2_nGmo_"
      },
      "execution_count": 13,
      "outputs": []
    },
    {
      "cell_type": "code",
      "source": [
        "fig = plt.figure(figsize=(12, 9))\n",
        "sns.heatmap(correl, square='True')\n",
        "plt.show()"
      ],
      "metadata": {
        "colab": {
          "base_uri": "https://localhost:8080/",
          "height": 570
        },
        "id": "shR8OG0VHghh",
        "outputId": "b5f2f842-2cb3-4e0a-88e4-d783f90f7097"
      },
      "execution_count": 22,
      "outputs": [
        {
          "output_type": "display_data",
          "data": {
            "text/plain": [
              "<Figure size 864x648 with 2 Axes>"
            ],
            "image/png": "[encoded data removed]"
          },
          "metadata": {
            "needs_background": "light"
          }
        }
      ]
    },
    {
      "cell_type": "code",
      "source": [
        "features = main_df.drop(['Class'], axis = 1)\n",
        "labels = main_df.Class"
      ],
      "metadata": {
        "id": "7jN-8iDcE0Rg"
      },
      "execution_count": 23,
      "outputs": []
    },
    {
      "cell_type": "code",
      "source": [
        "train_X, test_X, train_y, test_y = train_test_split(features, labels, test_size = 0.3, random_state = 42 )\n"
      ],
      "metadata": {
        "id": "htJyxG-8Ei33"
      },
      "execution_count": 24,
      "outputs": []
    },
    {
      "cell_type": "code",
      "source": [
        "model = RandomForestClassifier(random_state = 42, class_weight = 'balanced')\n"
      ],
      "metadata": {
        "id": "5PhgwRZwE3Yc"
      },
      "execution_count": 28,
      "outputs": []
    },
    {
      "cell_type": "code",
      "source": [
        "grid.fit(train_X, train_y)"
      ],
      "metadata": {
        "id": "ny1zMu2DK4qg"
      },
      "execution_count": null,
      "outputs": []
    },
    {
      "cell_type": "code",
      "source": [
        "model.fit(train_X, train_y)\n"
      ],
      "metadata": {
        "colab": {
          "base_uri": "https://localhost:8080/"
        },
        "id": "uaVMInz1MxUv",
        "outputId": "3cd8b44e-f177-465e-ac00-13de61ebb41d"
      },
      "execution_count": 31,
      "outputs": [
        {
          "output_type": "execute_result",
          "data": {
            "text/plain": [
              "RandomForestClassifier(class_weight='balanced', random_state=42)"
            ]
          },
          "metadata": {},
          "execution_count": 31
        }
      ]
    },
    {
      "cell_type": "code",
      "source": [
        "imp_s = pd.Series(model.feature_importances_, index = test_X.columns, name = 'importance')"
      ],
      "metadata": {
        "id": "ijtdONgUNQ8o"
      },
      "execution_count": 35,
      "outputs": []
    },
    {
      "cell_type": "code",
      "source": [
        "imp = imp_s.sort_values(ascending=False)\n",
        "imp"
      ],
      "metadata": {
        "colab": {
          "base_uri": "https://localhost:8080/"
        },
        "id": "syqQ6HS9Nspz",
        "outputId": "3e3937cd-984c-4206-a3bd-f5996e347b76"
      },
      "execution_count": 41,
      "outputs": [
        {
          "output_type": "execute_result",
          "data": {
            "text/plain": [
              "V14       0.176432\n",
              "V10       0.108655\n",
              "V4        0.105379\n",
              "V12       0.103484\n",
              "V17       0.090405\n",
              "V3        0.059854\n",
              "V16       0.047956\n",
              "V11       0.046531\n",
              "V2        0.036369\n",
              "V7        0.026177\n",
              "V9        0.022526\n",
              "V21       0.016957\n",
              "V19       0.016070\n",
              "V18       0.011795\n",
              "V5        0.011722\n",
              "Amount    0.011660\n",
              "V8        0.011346\n",
              "V27       0.010817\n",
              "V1        0.009850\n",
              "V20       0.009400\n",
              "V6        0.008673\n",
              "V15       0.008093\n",
              "V26       0.008085\n",
              "V23       0.006938\n",
              "V13       0.006627\n",
              "V28       0.006340\n",
              "V22       0.005910\n",
              "V25       0.005820\n",
              "Time      0.005399\n",
              "V24       0.004729\n",
              "Name: importance, dtype: float64"
            ]
          },
          "metadata": {},
          "execution_count": 41
        }
      ]
    },
    {
      "cell_type": "code",
      "source": [
        "pred = model.predict(test_X)\n",
        "print (accuracy_score(test_y, pred))\n",
        "print (precision_score(test_y, pred))\n",
        "print (recall_score(test_y, pred))\n",
        "ConfusionMatrixDisplay.from_predictions(test_y, pred)"
      ],
      "metadata": {
        "colab": {
          "base_uri": "https://localhost:8080/",
          "height": 353
        },
        "id": "l3mdHA0_OEUT",
        "outputId": "a470994f-37f9-4c7e-c329-d54288ed0cfb"
      },
      "execution_count": 40,
      "outputs": [
        {
          "output_type": "stream",
          "name": "stdout",
          "text": [
            "0.999602073897218\n",
            "0.9553571428571429\n",
            "0.7867647058823529\n"
          ]
        },
        {
          "output_type": "execute_result",
          "data": {
            "text/plain": [
              "<sklearn.metrics._plot.confusion_matrix.ConfusionMatrixDisplay at 0x7f730f358e50>"
            ]
          },
          "metadata": {},
          "execution_count": 40
        },
        {
          "output_type": "display_data",
          "data": {
            "text/plain": [
              "<Figure size 432x288 with 2 Axes>"
            ],
            "image/png": "[encoded data removed]"
          },
          "metadata": {
            "needs_background": "light"
          }
        }
      ]
    },
    {
      "cell_type": "code",
      "source": [
        "main_features = list(imp.index[:10])\n",
        "main_features.append('Class')\n",
        "optimal_data = main_df[main_features]"
      ],
      "metadata": {
        "id": "haK9JGufOjxj"
      },
      "execution_count": 51,
      "outputs": []
    },
    {
      "cell_type": "code",
      "source": [
        "opt_train_X, opt_test_X, opt_train_y, opt_test_y = train_test_split(optimal_data.drop(['Class'], axis = 1), optimal_data.Class, \n",
        "                                                                                      test_size = 0.3, random_state = 42)"
      ],
      "metadata": {
        "id": "q0U4vJNhPAeN"
      },
      "execution_count": 53,
      "outputs": []
    },
    {
      "cell_type": "code",
      "source": [
        "model_opt = RandomForestClassifier(random_state = 42, class_weight = 'balanced')"
      ],
      "metadata": {
        "id": "v3AySV1RQNdb"
      },
      "execution_count": 54,
      "outputs": []
    },
    {
      "cell_type": "code",
      "source": [
        "model_opt.fit(opt_train_X, opt_train_y)"
      ],
      "metadata": {
        "colab": {
          "base_uri": "https://localhost:8080/"
        },
        "id": "v-CCpQ-_QPzq",
        "outputId": "51aea460-ba2b-41ac-eb86-d45051a21434"
      },
      "execution_count": 55,
      "outputs": [
        {
          "output_type": "execute_result",
          "data": {
            "text/plain": [
              "RandomForestClassifier(class_weight='balanced', random_state=42)"
            ]
          },
          "metadata": {},
          "execution_count": 55
        }
      ]
    },
    {
      "cell_type": "code",
      "source": [
        "pred_opt = model_opt.predict(opt_test_X)\n",
        "print (accuracy_score(opt_test_y, pred_opt))\n",
        "print (precision_score(opt_test_y, pred_opt))\n",
        "print (recall_score(opt_test_y, pred_opt))\n",
        "ConfusionMatrixDisplay.from_predictions(opt_test_y, pred_opt)"
      ],
      "metadata": {
        "colab": {
          "base_uri": "https://localhost:8080/",
          "height": 353
        },
        "id": "GeRfyNkVQsSG",
        "outputId": "a038e1e6-6545-4148-8e31-9b596e65edc6"
      },
      "execution_count": 57,
      "outputs": [
        {
          "output_type": "stream",
          "name": "stdout",
          "text": [
            "0.9996254813150287\n",
            "0.9642857142857143\n",
            "0.7941176470588235\n"
          ]
        },
        {
          "output_type": "execute_result",
          "data": {
            "text/plain": [
              "<sklearn.metrics._plot.confusion_matrix.ConfusionMatrixDisplay at 0x7f730cfefad0>"
            ]
          },
          "metadata": {},
          "execution_count": 57
        },
        {
          "output_type": "display_data",
          "data": {
            "text/plain": [
              "<Figure size 432x288 with 2 Axes>"
            ],
            "image/png": "[encoded data removed]"
          },
          "metadata": {
            "needs_background": "light"
          }
        }
      ]
    },
    {
      "cell_type": "code",
      "source": [
        "model_opt_2 = RandomForestClassifier(random_state = 42, class_weight = 'balanced')\n",
        "param = {'criterion': ['gini', 'entropy'], \n",
        "         #'max_depth': [5, 7], \n",
        "         #'min_samples_split': [2, 5],\n",
        "         'max_features': ['log2', 'sqrt'],\n",
        "         'n_estimators': [ 10, 25, 100]\n",
        "}\n",
        "grid = GridSearchCV(model_opt_2, param, verbose = 2)\n"
      ],
      "metadata": {
        "id": "WAC7piOPKfXT"
      },
      "execution_count": 61,
      "outputs": []
    },
    {
      "cell_type": "code",
      "source": [
        "grid.fit(opt_train_X, opt_train_y)"
      ],
      "metadata": {
        "colab": {
          "base_uri": "https://localhost:8080/"
        },
        "id": "GS7p6I5VRbwv",
        "outputId": "58dea09e-1840-4112-dedf-b563d483898d"
      },
      "execution_count": 62,
      "outputs": [
        {
          "output_type": "stream",
          "name": "stdout",
          "text": [
            "Fitting 5 folds for each of 12 candidates, totalling 60 fits\n",
            "[CV] END .criterion=gini, max_features=log2, n_estimators=10; total time=   5.9s\n",
            "[CV] END .criterion=gini, max_features=log2, n_estimators=10; total time=   6.7s\n",
            "[CV] END .criterion=gini, max_features=log2, n_estimators=10; total time=   5.3s\n",
            "[CV] END .criterion=gini, max_features=log2, n_estimators=10; total time=   4.4s\n",
            "[CV] END .criterion=gini, max_features=log2, n_estimators=10; total time=   4.5s\n",
            "[CV] END .criterion=gini, max_features=log2, n_estimators=25; total time=  10.7s\n",
            "[CV] END .criterion=gini, max_features=log2, n_estimators=25; total time=  10.3s\n",
            "[CV] END .criterion=gini, max_features=log2, n_estimators=25; total time=  11.3s\n",
            "[CV] END .criterion=gini, max_features=log2, n_estimators=25; total time=  11.5s\n",
            "[CV] END .criterion=gini, max_features=log2, n_estimators=25; total time=  10.7s\n",
            "[CV] END criterion=gini, max_features=log2, n_estimators=100; total time=  41.4s\n",
            "[CV] END criterion=gini, max_features=log2, n_estimators=100; total time=  40.1s\n",
            "[CV] END criterion=gini, max_features=log2, n_estimators=100; total time=  42.2s\n",
            "[CV] END criterion=gini, max_features=log2, n_estimators=100; total time=  42.8s\n",
            "[CV] END criterion=gini, max_features=log2, n_estimators=100; total time=  41.1s\n",
            "[CV] END .criterion=gini, max_features=sqrt, n_estimators=10; total time=   4.1s\n",
            "[CV] END .criterion=gini, max_features=sqrt, n_estimators=10; total time=   4.0s\n",
            "[CV] END .criterion=gini, max_features=sqrt, n_estimators=10; total time=   4.5s\n",
            "[CV] END .criterion=gini, max_features=sqrt, n_estimators=10; total time=   4.2s\n",
            "[CV] END .criterion=gini, max_features=sqrt, n_estimators=10; total time=   5.0s\n",
            "[CV] END .criterion=gini, max_features=sqrt, n_estimators=25; total time=  10.4s\n",
            "[CV] END .criterion=gini, max_features=sqrt, n_estimators=25; total time=  10.1s\n",
            "[CV] END .criterion=gini, max_features=sqrt, n_estimators=25; total time=  10.6s\n",
            "[CV] END .criterion=gini, max_features=sqrt, n_estimators=25; total time=  10.5s\n",
            "[CV] END .criterion=gini, max_features=sqrt, n_estimators=25; total time=  10.3s\n",
            "[CV] END criterion=gini, max_features=sqrt, n_estimators=100; total time=  42.2s\n",
            "[CV] END criterion=gini, max_features=sqrt, n_estimators=100; total time=  41.3s\n",
            "[CV] END criterion=gini, max_features=sqrt, n_estimators=100; total time=  41.0s\n",
            "[CV] END criterion=gini, max_features=sqrt, n_estimators=100; total time=  40.3s\n",
            "[CV] END criterion=gini, max_features=sqrt, n_estimators=100; total time=  40.2s\n",
            "[CV] END criterion=entropy, max_features=log2, n_estimators=10; total time=   5.8s\n",
            "[CV] END criterion=entropy, max_features=log2, n_estimators=10; total time=   5.6s\n",
            "[CV] END criterion=entropy, max_features=log2, n_estimators=10; total time=   5.5s\n",
            "[CV] END criterion=entropy, max_features=log2, n_estimators=10; total time=   5.2s\n",
            "[CV] END criterion=entropy, max_features=log2, n_estimators=10; total time=   5.4s\n",
            "[CV] END criterion=entropy, max_features=log2, n_estimators=25; total time=  15.0s\n",
            "[CV] END criterion=entropy, max_features=log2, n_estimators=25; total time=  14.7s\n",
            "[CV] END criterion=entropy, max_features=log2, n_estimators=25; total time=  14.6s\n",
            "[CV] END criterion=entropy, max_features=log2, n_estimators=25; total time=  14.1s\n",
            "[CV] END criterion=entropy, max_features=log2, n_estimators=25; total time=  14.1s\n",
            "[CV] END criterion=entropy, max_features=log2, n_estimators=100; total time=  58.4s\n",
            "[CV] END criterion=entropy, max_features=log2, n_estimators=100; total time=  56.7s\n",
            "[CV] END criterion=entropy, max_features=log2, n_estimators=100; total time=  58.1s\n",
            "[CV] END criterion=entropy, max_features=log2, n_estimators=100; total time=  56.3s\n",
            "[CV] END criterion=entropy, max_features=log2, n_estimators=100; total time=  53.6s\n",
            "[CV] END criterion=entropy, max_features=sqrt, n_estimators=10; total time=   6.1s\n",
            "[CV] END criterion=entropy, max_features=sqrt, n_estimators=10; total time=   5.9s\n",
            "[CV] END criterion=entropy, max_features=sqrt, n_estimators=10; total time=   5.7s\n",
            "[CV] END criterion=entropy, max_features=sqrt, n_estimators=10; total time=   5.4s\n",
            "[CV] END criterion=entropy, max_features=sqrt, n_estimators=10; total time=   5.4s\n",
            "[CV] END criterion=entropy, max_features=sqrt, n_estimators=25; total time=  15.1s\n",
            "[CV] END criterion=entropy, max_features=sqrt, n_estimators=25; total time=  15.3s\n",
            "[CV] END criterion=entropy, max_features=sqrt, n_estimators=25; total time=  15.0s\n",
            "[CV] END criterion=entropy, max_features=sqrt, n_estimators=25; total time=  14.8s\n",
            "[CV] END criterion=entropy, max_features=sqrt, n_estimators=25; total time=  15.3s\n",
            "[CV] END criterion=entropy, max_features=sqrt, n_estimators=100; total time= 1.0min\n",
            "[CV] END criterion=entropy, max_features=sqrt, n_estimators=100; total time=  58.5s\n",
            "[CV] END criterion=entropy, max_features=sqrt, n_estimators=100; total time=  59.9s\n",
            "[CV] END criterion=entropy, max_features=sqrt, n_estimators=100; total time=  59.2s\n",
            "[CV] END criterion=entropy, max_features=sqrt, n_estimators=100; total time=  58.2s\n"
          ]
        },
        {
          "output_type": "execute_result",
          "data": {
            "text/plain": [
              "GridSearchCV(estimator=RandomForestClassifier(class_weight='balanced',\n",
              "                                              random_state=42),\n",
              "             param_grid={'criterion': ['gini', 'entropy'],\n",
              "                         'max_features': ['log2', 'sqrt'],\n",
              "                         'n_estimators': [10, 25, 100]},\n",
              "             verbose=2)"
            ]
          },
          "metadata": {},
          "execution_count": 62
        }
      ]
    },
    {
      "cell_type": "code",
      "source": [
        "Omodel = grid.best_estimator_\n",
        "Opred = Omodel.predict(opt_test_X)\n",
        "print (accuracy_score(opt_test_y, pred_opt))\n",
        "print (precision_score(opt_test_y, pred_opt))\n",
        "print (recall_score(opt_test_y, pred_opt))\n",
        "ConfusionMatrixDisplay.from_predictions(opt_test_y, pred_opt)"
      ],
      "metadata": {
        "colab": {
          "base_uri": "https://localhost:8080/",
          "height": 353
        },
        "id": "uH_p9Ke6XJtU",
        "outputId": "2fda1af6-8773-420a-ecd8-85ec6f038231"
      },
      "execution_count": 63,
      "outputs": [
        {
          "output_type": "stream",
          "name": "stdout",
          "text": [
            "0.9996254813150287\n",
            "0.9642857142857143\n",
            "0.7941176470588235\n"
          ]
        },
        {
          "output_type": "execute_result",
          "data": {
            "text/plain": [
              "<sklearn.metrics._plot.confusion_matrix.ConfusionMatrixDisplay at 0x7f730f300490>"
            ]
          },
          "metadata": {},
          "execution_count": 63
        },
        {
          "output_type": "display_data",
          "data": {
            "text/plain": [
              "<Figure size 432x288 with 2 Axes>"
            ],
            "image/png": "[encoded data removed]"
          },
          "metadata": {
            "needs_background": "light"
          }
        }
      ]
    },
    {
      "cell_type": "code",
      "source": [
        "grid.best_params_"
      ],
      "metadata": {
        "colab": {
          "base_uri": "https://localhost:8080/"
        },
        "id": "r5TV84Z0Xb_Z",
        "outputId": "f2027d13-dabd-4ba9-bbb0-0a118c259dbe"
      },
      "execution_count": 64,
      "outputs": [
        {
          "output_type": "execute_result",
          "data": {
            "text/plain": [
              "{'criterion': 'entropy', 'max_features': 'log2', 'n_estimators': 100}"
            ]
          },
          "metadata": {},
          "execution_count": 64
        }
      ]
    }
  ]
}